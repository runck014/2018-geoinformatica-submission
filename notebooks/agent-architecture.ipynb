{
 "cells": [
  {
   "cell_type": "code",
   "execution_count": 150,
   "metadata": {},
   "outputs": [],
   "source": [
    "%run ../models/agent-architecture.py"
   ]
  },
  {
   "cell_type": "markdown",
   "metadata": {},
   "source": [
    "# Preliminaries\n",
    "\n",
    "## Load Word Embeddings\n",
    "\n",
    "To create a word embedding object, the object needs a file path pointed to GloVe word embeddings from https://nlp.stanford.edu/projects/glove/ as described in Pennington et al. 2014.\n",
    "\n",
    "The word embeddings object has two methods:\n",
    "\n",
    "1. load_embeddings( ) - this is used to load all of the embeddings into a dictionary. The file size is roughly 2 GB depending on the specific set of embeddings.\n",
    "2. get_embedding( ) - this method takes a word string and returns an embedding."
   ]
  },
  {
   "cell_type": "code",
   "execution_count": 40,
   "metadata": {},
   "outputs": [],
   "source": [
    "#Due to space limitations on github, word vector file is not uploaded\n",
    "glove_6b_300 = word_embeddings('../../word_embeddings/glove.6B.300d.txt')"
   ]
  },
  {
   "cell_type": "code",
   "execution_count": 41,
   "metadata": {},
   "outputs": [
    {
     "name": "stdout",
     "output_type": "stream",
     "text": [
      "Loading Embeddings: ../../word_embeddings/glove.6B.300d.txt\n",
      "Go grab a beverage. This may take some time...\n",
      "-----------------------------------------------\n",
      "At word  10000  :  quinn\n",
      "At word  20000  :  pitting\n",
      "At word  30000  :  monfils\n",
      "At word  40000  :  midwife\n",
      "At word  50000  :  nanda\n",
      "At word  60000  :  eales\n",
      "At word  70000  :  1,260\n",
      "At word  80000  :  20,500\n",
      "At word  90000  :  wrx\n",
      "At word  100000  :  autocephalous\n",
      "At word  110000  :  rejectionist\n",
      "At word  120000  :  grilli\n",
      "At word  130000  :  savarkar\n",
      "At word  140000  :  v-league\n",
      "At word  150000  :  al-quds\n",
      "At word  160000  :  1,494\n",
      "At word  170000  :  hilfe\n",
      "At word  180000  :  champagnat\n",
      "At word  190000  :  12.1-inch\n",
      "At word  200000  :  soroca\n",
      "At word  210000  :  movado\n",
      "At word  220000  :  abassan\n",
      "At word  230000  :  hazuki\n",
      "At word  240000  :  dandurand\n",
      "At word  250000  :  bottas\n",
      "At word  260000  :  ritschl\n",
      "At word  270000  :  schismatics\n",
      "At word  280000  :  aarseth\n",
      "At word  290000  :  golonka\n",
      "At word  300000  :  katoucha\n",
      "At word  310000  :  seguira\n",
      "At word  320000  :  jaycox\n",
      "At word  330000  :  elsik\n",
      "At word  340000  :  ecolabel\n",
      "At word  350000  :  finch-like\n",
      "At word  360000  :  mameluks\n",
      "At word  370000  :  xintian\n",
      "At word  380000  :  shajiao\n",
      "At word  390000  :  pyongyong\n",
      "At word  400000  :  sandberger\n"
     ]
    }
   ],
   "source": [
    "glove_6b_300.load_embeddings()"
   ]
  },
  {
   "cell_type": "code",
   "execution_count": 426,
   "metadata": {
    "scrolled": true
   },
   "outputs": [
    {
     "data": {
      "text/plain": [
       "array([ 0.067657 ,  0.31707  ,  0.17335  ,  0.49517  , -0.43659  ,\n",
       "        0.40762  ,  0.17853  , -0.19861  , -0.030561 ,  0.028715 ,\n",
       "        0.2849   , -0.19515  , -0.01294  , -0.023773 ,  0.018514 ,\n",
       "        0.068279 , -0.11688  ,  0.12886  ,  0.012803 ,  0.12346  ,\n",
       "       -0.19171  , -0.0013463, -0.33404  ,  0.0099228,  0.13672  ,\n",
       "        0.0033258, -0.11776  , -0.62765  ,  0.16715  , -0.52227  ,\n",
       "       -0.19685  , -0.018773 , -0.168    ,  0.22324  , -1.2951   ,\n",
       "        0.55208  ,  0.15708  ,  0.70124  ,  0.25239  , -0.40275  ,\n",
       "       -0.15608  , -0.09341  , -0.47102  ,  0.08377  ,  0.34432  ,\n",
       "       -0.035855 ,  0.1233   , -0.36519  ,  0.27029  ,  0.20856  ,\n",
       "       -0.31784  ,  0.17809  , -0.33289  ,  0.35023  ,  0.22175  ,\n",
       "       -0.18175  , -0.22117  ,  0.14903  , -0.60117  , -0.33642  ,\n",
       "       -0.31008  ,  0.23626  , -0.32179  ,  0.11275  , -0.16623  ,\n",
       "       -0.35505  ,  0.28151  ,  0.027157 , -0.04567  , -0.67872  ,\n",
       "       -0.3632   , -0.15104  ,  0.0321   , -0.041342 , -0.096761 ,\n",
       "        0.17069  , -0.44573  ,  0.5492   ,  0.079945 ,  0.042547 ,\n",
       "        0.10275  , -0.10898  ,  0.11937  , -0.43006  , -0.36956  ,\n",
       "        0.31915  , -0.11044  ,  0.50691  , -0.21007  , -0.25446  ,\n",
       "       -0.36034  ,  0.083953 , -0.49656  , -0.50357  ,  0.045611 ,\n",
       "        0.25442  , -0.13311  , -0.36412  ,  0.045366 , -0.22063  ,\n",
       "       -0.10413  , -0.2597   ,  0.029176 ,  0.37984  ,  0.1054   ,\n",
       "        0.1961   ,  0.70438  ,  0.023382 , -0.28285  ,  0.35975  ,\n",
       "       -0.16508  ,  0.54723  , -0.13606  , -0.066697 , -0.069601 ,\n",
       "        0.10815  ,  0.024286 , -0.30482  ,  0.039769 , -0.12667  ,\n",
       "       -0.59457  , -0.14799  , -0.6783   ,  0.097734 ,  0.31163  ,\n",
       "       -0.33066  ,  0.37015  , -0.2725   ,  0.21206  , -0.099118 ,\n",
       "        0.47164  , -0.051998 , -0.021467 , -0.1167   ,  0.34913  ,\n",
       "        0.28154  ,  0.23111  , -0.11443  , -0.031326 , -0.25897  ,\n",
       "        0.22566  ,  0.013705 ,  0.025632 , -0.076316 , -0.41364  ,\n",
       "       -0.048084 , -0.11939  , -0.45848  , -0.16012  , -0.5027   ,\n",
       "        0.49226  ,  0.0048154,  0.047574 , -0.16481  , -0.40761  ,\n",
       "        0.010713 ,  0.20098  ,  0.034845 , -0.04097  ,  0.1524   ,\n",
       "        0.29295  , -0.1009   ,  0.33469  , -0.039746 , -0.64123  ,\n",
       "        0.28868  , -0.18129  , -0.11232  , -0.22823  ,  0.13128  ,\n",
       "       -0.59494  , -0.021613 , -0.28561  ,  0.60569  , -0.1517   ,\n",
       "        0.090904 , -0.56852  , -0.056859 , -0.12384  ,  0.048203 ,\n",
       "       -0.26301  ,  0.22125  , -0.0087081,  0.063262 , -0.34789  ,\n",
       "        0.040383 , -0.66678  , -0.095258 ,  0.39353  ,  0.10858  ,\n",
       "       -0.15227  , -0.056415 , -0.22425  , -0.014943 , -0.10025  ,\n",
       "       -0.28223  ,  0.11818  ,  0.26452  , -0.31531  , -0.058105 ,\n",
       "        0.37168  ,  0.27581  ,  0.10028  ,  0.32309  ,  0.35038  ,\n",
       "       -0.42188  ,  0.45726  ,  0.60152  , -0.12206  , -0.21988  ,\n",
       "        0.068717 ,  0.20785  ,  0.087024 , -0.010456 ,  0.31288  ,\n",
       "        0.054306 , -0.03962  , -0.44132  ,  0.072809 , -0.70189  ,\n",
       "       -0.302    , -0.14877  , -0.28563  , -0.36488  , -0.079664 ,\n",
       "        0.26018  ,  0.27157  , -0.079274 ,  0.14383  , -0.17926  ,\n",
       "       -0.23319  ,  0.21278  ,  0.014389 ,  0.08334  , -0.77623  ,\n",
       "       -0.42537  ,  0.18168  ,  0.15813  , -0.15576  ,  0.086925 ,\n",
       "        0.14359  , -0.27536  , -0.011346 , -0.013886 ,  0.14458  ,\n",
       "        0.36819  , -0.31773  , -0.24417  ,  0.35131  ,  0.8513   ,\n",
       "       -0.3396   , -0.050865 , -0.59053  , -0.13285  ,  0.85796  ,\n",
       "       -0.29519  ,  0.08836  ,  0.0023032,  0.17116  , -0.27777  ,\n",
       "       -0.22984  ,  0.061041 , -0.054123 ,  0.053936 , -0.091749 ,\n",
       "        0.17307  ,  0.70723  ,  0.26525  , -0.40371  ,  0.080394 ,\n",
       "       -0.5778   , -0.24652  , -0.37295  ,  0.048854 ,  0.307    ,\n",
       "        0.20246  ,  0.319    , -0.07708  , -0.15137  ,  0.64333  ,\n",
       "        0.14464  , -0.082845 ,  0.062688 , -0.18188  ,  0.039208 ,\n",
       "        0.094558 ,  0.14529  ,  0.13739  ,  0.19499  , -0.22385  ,\n",
       "       -0.0061763,  0.55652  ,  0.11879  ,  0.22447  , -0.24663  ,\n",
       "       -0.10346  , -0.90053  , -0.2283   , -0.48723  ,  0.33222  ])"
      ]
     },
     "execution_count": 426,
     "metadata": {},
     "output_type": "execute_result"
    }
   ],
   "source": [
    "## Example Embedding\n",
    "glove_6b_300.get_embedding('quinn')"
   ]
  },
  {
   "cell_type": "markdown",
   "metadata": {},
   "source": [
    "# Agent for Experiment Set 1\n",
    "\n",
    "To instantiate the agent for the first set of experiments, the agent needs to have a pointer to the embedding object."
   ]
  },
  {
   "cell_type": "code",
   "execution_count": 151,
   "metadata": {},
   "outputs": [],
   "source": [
    "agent = agent_experiment_1(word_embeddings_object=glove_6b_300)"
   ]
  },
  {
   "cell_type": "code",
   "execution_count": 152,
   "metadata": {},
   "outputs": [],
   "source": [
    "agent.perceive(prompt=\"test test test\", options=[\"test test test\", \"test cat test\", \"test dog cat\"])"
   ]
  },
  {
   "cell_type": "code",
   "execution_count": 153,
   "metadata": {
    "scrolled": true
   },
   "outputs": [
    {
     "data": {
      "text/plain": [
       "[]"
      ]
     },
     "execution_count": 153,
     "metadata": {},
     "output_type": "execute_result"
    }
   ],
   "source": [
    "agent.evaluations"
   ]
  },
  {
   "cell_type": "code",
   "execution_count": 154,
   "metadata": {},
   "outputs": [
    {
     "data": {
      "text/plain": [
       "[0.9999999999999999, 0.9241331771565111, 0.6031059183354991]"
      ]
     },
     "execution_count": 154,
     "metadata": {},
     "output_type": "execute_result"
    }
   ],
   "source": [
    "agent.evaluate_perceptions() \n",
    "## returns the evaluations and stores them in agent.evaluate"
   ]
  },
  {
   "cell_type": "code",
   "execution_count": 155,
   "metadata": {},
   "outputs": [
    {
     "data": {
      "text/plain": [
       "[0.9999999999999999, 0.9241331771565111, 0.6031059183354991]"
      ]
     },
     "execution_count": 155,
     "metadata": {},
     "output_type": "execute_result"
    }
   ],
   "source": [
    "agent.evaluations"
   ]
  },
  {
   "cell_type": "markdown",
   "metadata": {},
   "source": [
    "# Illustration of Agent on Linda Problem\n",
    "In the following, an example of the Linda problem is given to illustrate how the agent uses phrases."
   ]
  },
  {
   "cell_type": "code",
   "execution_count": 165,
   "metadata": {},
   "outputs": [],
   "source": [
    "from matplotlib import pyplot as plt\n",
    "%matplotlib inline"
   ]
  },
  {
   "cell_type": "code",
   "execution_count": 158,
   "metadata": {},
   "outputs": [],
   "source": [
    "prompt = \"Linda is 31 years old, single, outspoken and very bright. She majored in philosophy. As a student, she was deeply concerned with issues of discrimination and social justice, and also participated in antinuclear demonstrations. Which of the following is most probable?\"\n",
    "options = [ \"Linda is a bank teller.\",\n",
    "\"Linda is a bank teller and active in the feminist movement.\",\n",
    "\"Linda is a feminist.\"\n",
    "]"
   ]
  },
  {
   "cell_type": "code",
   "execution_count": 159,
   "metadata": {},
   "outputs": [],
   "source": [
    "agent.perceive(prompt=prompt, options=options)"
   ]
  },
  {
   "cell_type": "code",
   "execution_count": 160,
   "metadata": {},
   "outputs": [
    {
     "data": {
      "text/plain": [
       "[0.2744873996226564, 0.5923732736455332, 0.35307643353440243]"
      ]
     },
     "execution_count": 160,
     "metadata": {},
     "output_type": "execute_result"
    }
   ],
   "source": [
    "agent.evaluate_perceptions()"
   ]
  },
  {
   "cell_type": "code",
   "execution_count": 175,
   "metadata": {},
   "outputs": [
    {
     "data": {
      "text/plain": [
       "<Container object of 3 artists>"
      ]
     },
     "execution_count": 175,
     "metadata": {},
     "output_type": "execute_result"
    },
    {
     "data": {
      "image/png": "[encoded data removed]",
      "text/plain": [
       "<matplotlib.figure.Figure at 0x7f9d400e19b0>"
      ]
     },
     "metadata": {},
     "output_type": "display_data"
    }
   ],
   "source": [
    "plt.bar([\"Option 1\",\"Option 2\",\"Option 3\"],agent.evaluations)"
   ]
  },
  {
   "cell_type": "markdown",
   "metadata": {},
   "source": [
    "### Comments on the Agent Response\n",
    "\n",
    "Here the agent evaluates each according to cosine similarity. Option 2, which associative memory theory predicts would be chosen, the agent would select using an argmax criteria. This result is a replication of results from Bhatia 2017."
   ]
  },
  {
   "cell_type": "markdown",
   "metadata": {},
   "source": [
    "# Experiments on Set of Prompts\n"
   ]
  },
  {
   "cell_type": "code",
   "execution_count": 176,
   "metadata": {},
   "outputs": [],
   "source": [
    "import pandas as pd"
   ]
  },
  {
   "cell_type": "code",
   "execution_count": 425,
   "metadata": {},
   "outputs": [],
   "source": [
    "#prompts and options\n",
    "prompts = pd.read_excel('../data/agent-validation-experiments.xlsx')"
   ]
  },
  {
   "cell_type": "code",
   "execution_count": 424,
   "metadata": {
    "scrolled": false
   },
   "outputs": [
    {
     "name": "stdout",
     "output_type": "stream",
     "text": [
      "Question 1 :  Linda is 31 years old, single, outspoken and very bright. She majored in philosophy. As a student, she was deeply concerned with issues of discrimination and social justice, and also participated in antinuclear demonstrations. Which of the following is most probable?\n"
     ]
    },
    {
     "data": {
      "image/png": "[encoded data removed]",
      "text/plain": [
       "<matplotlib.figure.Figure at 0x7f9d3b728c88>"
      ]
     },
     "metadata": {},
     "output_type": "display_data"
    },
    {
     "name": "stdout",
     "output_type": "stream",
     "text": [
      "Options  1 :  Linda is a bank teller.  ||| Value:  0.2744873996226564\n",
      "Options  2 :  Linda is a bank teller and active in the feminist movement.  ||| Value:  0.5923732736455332\n",
      "Options  3 :  Linda is a feminist.  ||| Value:  0.35307643353440243\n",
      "                      \n",
      "**********************\n",
      "                      \n",
      "Question 2 :  Bill is 34 years old. He is intelligent, but unimaginative, compulsive, and generally lifeless. In school, he was strong in mathematics but weak in social studies and humanities. \n"
     ]
    },
    {
     "data": {
      "image/png": "[encoded data removed]",
      "text/plain": [
       "<matplotlib.figure.Figure at 0x7f9d3b0c8208>"
      ]
     },
     "metadata": {},
     "output_type": "display_data"
    },
    {
     "name": "stdout",
     "output_type": "stream",
     "text": [
      "Options  1 :  Bill plays jazz for a hobby   ||| Value:  0.4883070170239979\n",
      "Options  2 :  Bill is an accountant who plays jazz for a hobby   ||| Value:  0.6485869955563022\n",
      "Options  3 :  Bill plays jazz for a hobby.  ||| Value:  0.4883070170239979\n",
      "                      \n",
      "**********************\n",
      "                      \n",
      "Question 3 :  An agricultural crop has been planted in a field near a stream, and is expected to begin growing soon. There are weeds in the field. A herbicide is going to be sprayed. Which is most probable:\n"
     ]
    },
    {
     "data": {
      "image/png": "[encoded data removed]",
      "text/plain": [
       "<matplotlib.figure.Figure at 0x7f9d3b180f98>"
      ]
     },
     "metadata": {},
     "output_type": "display_data"
    },
    {
     "name": "stdout",
     "output_type": "stream",
     "text": [
      "Options  1 :  The chemical will get into the water  ||| Value:  0.7826915950696346\n",
      "Options  2 :  The chemical will kill the weeds and get into the water  ||| Value:  0.7879875059735776\n",
      "Options  3 :  The chemical will kill the weeds  ||| Value:  0.6605611284087188\n",
      "                      \n",
      "**********************\n",
      "                      \n",
      "Question 4 :  An agricultural crop has been planted in a field near a stream, and is expected to begin growing soon. Synthetic fertilizers are going to be applied soon. Which of the following is most likely:\n"
     ]
    },
    {
     "data": {
      "image/png": "[encoded data removed]",
      "text/plain": [
       "<matplotlib.figure.Figure at 0x7f9d3b152cc0>"
      ]
     },
     "metadata": {},
     "output_type": "display_data"
    },
    {
     "name": "stdout",
     "output_type": "stream",
     "text": [
      "Options  1 :  The fertilizer will get into the water.  ||| Value:  0.7945629196350106\n",
      "Options  2 :  The fertilizer will increase crop yields and get into the water.  ||| Value:  0.8229454627111288\n",
      "Options  3 :  The fertilizer will increase crop yields.  ||| Value:  0.7016169901727858\n",
      "                      \n",
      "**********************\n",
      "                      \n",
      "Question 5 :  You are considering planting a cover crop after corn. Which of the following is most likely?\n"
     ]
    },
    {
     "data": {
      "image/png": "[encoded data removed]",
      "text/plain": [
       "<matplotlib.figure.Figure at 0x7f9d3b231e48>"
      ]
     },
     "metadata": {},
     "output_type": "display_data"
    },
    {
     "name": "stdout",
     "output_type": "stream",
     "text": [
      "Options  1 :  The cover crop will improve soil health.  ||| Value:  0.7881213542798842\n",
      "Options  2 :  The cover crop will reduce corn yield and improve soil health.  ||| Value:  0.8018572192977709\n",
      "Options  3 :  The cover crop will reduce corn yield.  ||| Value:  0.794603115105993\n",
      "                      \n",
      "**********************\n",
      "                      \n",
      "Question 6 :  You are considering applying manure to alfalfa.\n"
     ]
    },
    {
     "data": {
      "image/png": "[encoded data removed]",
      "text/plain": [
       "<matplotlib.figure.Figure at 0x7f9d3b34fe10>"
      ]
     },
     "metadata": {},
     "output_type": "display_data"
    },
    {
     "name": "stdout",
     "output_type": "stream",
     "text": [
      "Options  1 :  The manure will improve crop yields.  ||| Value:  0.6601123974988047\n",
      "Options  2 :  The manure will improve soil fertility and crop yields.  ||| Value:  0.6302930273170692\n",
      "Options  3 :  The manure will improve soil fertility.  ||| Value:  0.6085408530048092\n",
      "                      \n",
      "**********************\n",
      "                      \n",
      "Question 7 :  You are considering applying manure to a corn crop.\n"
     ]
    },
    {
     "data": {
      "image/png": "[encoded data removed]",
      "text/plain": [
       "<matplotlib.figure.Figure at 0x7f9d3b085b70>"
      ]
     },
     "metadata": {},
     "output_type": "display_data"
    },
    {
     "name": "stdout",
     "output_type": "stream",
     "text": [
      "Options  1 :  The manure will improve crop yields.  ||| Value:  0.7890262614751279\n",
      "Options  2 :  The manure will pollute the ground water and increase crop yields.  ||| Value:  0.7751724444160696\n",
      "Options  3 :  The manure will pollute the ground water.  ||| Value:  0.6293599736219497\n",
      "                      \n",
      "**********************\n",
      "                      \n",
      "Question 8 :  You are considering applying an insecticide to an apple orchard.\n"
     ]
    },
    {
     "data": {
      "image/png": "[encoded data removed]",
      "text/plain": [
       "<matplotlib.figure.Figure at 0x7f9d3b0179e8>"
      ]
     },
     "metadata": {},
     "output_type": "display_data"
    },
    {
     "name": "stdout",
     "output_type": "stream",
     "text": [
      "Options  1 :  It will kill the pests.  ||| Value:  0.6271506198491312\n",
      "Options  2 :  It will kill the pests and make people sick.  ||| Value:  0.6718056890177121\n",
      "Options  3 :  It will make people sick.  ||| Value:  0.6739928680825131\n",
      "                      \n",
      "**********************\n",
      "                      \n",
      "Question 9 :  You are considering applying an insecticide to a corn crop.\n"
     ]
    },
    {
     "data": {
      "image/png": "[encoded data removed]",
      "text/plain": [
       "<matplotlib.figure.Figure at 0x7f9d3b1a3470>"
      ]
     },
     "metadata": {},
     "output_type": "display_data"
    },
    {
     "name": "stdout",
     "output_type": "stream",
     "text": [
      "Options  1 :  It will kill the pests.  ||| Value:  0.6830976977261595\n",
      "Options  2 :  It will kill the pests and make people sick.  ||| Value:  0.70896945575791\n",
      "Options  3 :  It will make people sick.  ||| Value:  0.661766804199312\n",
      "                      \n",
      "**********************\n",
      "                      \n",
      "Question 10 :  Farm\n"
     ]
    },
    {
     "data": {
      "image/png": "[encoded data removed]",
      "text/plain": [
       "<matplotlib.figure.Figure at 0x7f9d3afc20f0>"
      ]
     },
     "metadata": {},
     "output_type": "display_data"
    },
    {
     "name": "stdout",
     "output_type": "stream",
     "text": [
      "Options  1 :  The farmer values environmental sustainability.  ||| Value:  0.3898463589123848\n",
      "Options  2 :  The farmer values environmental sustainability and making as much money as possible.  ||| Value:  0.3933631404158573\n",
      "Options  3 :  The farmer values money.  ||| Value:  0.46796333985674315\n",
      "                      \n",
      "**********************\n",
      "                      \n",
      "Question 11 :  Urban farm\n"
     ]
    },
    {
     "data": {
      "image/png": "[encoded data removed]",
      "text/plain": [
       "<matplotlib.figure.Figure at 0x7f9d3b1a3518>"
      ]
     },
     "metadata": {},
     "output_type": "display_data"
    },
    {
     "name": "stdout",
     "output_type": "stream",
     "text": [
      "Options  1 :  The farmer values environmental sustainability.  ||| Value:  0.5037046255754252\n",
      "Options  2 :  The farmer values environmental sustainability and making as much money as possible.  ||| Value:  0.4988653621252342\n",
      "Options  3 :  The farmer values money.  ||| Value:  0.4741575163632403\n",
      "                      \n",
      "**********************\n",
      "                      \n",
      "Question 12 :  Conventional farm\n"
     ]
    },
    {
     "data": {
      "image/png": "[encoded data removed]",
      "text/plain": [
       "<matplotlib.figure.Figure at 0x7f9d3b221ac8>"
      ]
     },
     "metadata": {},
     "output_type": "display_data"
    },
    {
     "name": "stdout",
     "output_type": "stream",
     "text": [
      "Options  1 :  The farmer values environmental sustainability.  ||| Value:  0.41996138964007057\n",
      "Options  2 :  The farmer values environmental sustainability and making as much money as possible.  ||| Value:  0.4889477810171818\n",
      "Options  3 :  The farmer values money.  ||| Value:  0.49858437908933056\n",
      "                      \n",
      "**********************\n",
      "                      \n",
      "Question 13 :  Organic farm\n"
     ]
    },
    {
     "data": {
      "image/png": "[encoded data removed]",
      "text/plain": [
       "<matplotlib.figure.Figure at 0x7f9d3b2c8a90>"
      ]
     },
     "metadata": {},
     "output_type": "display_data"
    },
    {
     "name": "stdout",
     "output_type": "stream",
     "text": [
      "Options  1 :  The farmer values environmental sustainability.  ||| Value:  0.4679773203936214\n",
      "Options  2 :  The farmer values environmental sustainability and making as much money as possible.  ||| Value:  0.4472734087789848\n",
      "Options  3 :  The farmer values money.  ||| Value:  0.43786077793182165\n",
      "                      \n",
      "**********************\n",
      "                      \n",
      "Question 14 :  A farmer cares about soil health, water quality, and biodiversity.\n"
     ]
    },
    {
     "data": {
      "image/png": "[encoded data removed]",
      "text/plain": [
       "<matplotlib.figure.Figure at 0x7f9d3b18e208>"
      ]
     },
     "metadata": {},
     "output_type": "display_data"
    },
    {
     "name": "stdout",
     "output_type": "stream",
     "text": [
      "Options  1 :  The farm is organic.  ||| Value:  0.5479754563985219\n",
      "Options  2 :  The farm is conventional.  ||| Value:  0.49684032837603986\n",
      "Options  3 :  The farm is urban.  ||| Value:  0.5622414683041069\n",
      "                      \n",
      "**********************\n",
      "                      \n",
      "Question 15 :  A farmer cares about maximizing yield, adopting the latest technologies, and acquiring as much land as possible.\n"
     ]
    },
    {
     "data": {
      "image/png": "[encoded data removed]",
      "text/plain": [
       "<matplotlib.figure.Figure at 0x7f9d3b160c50>"
      ]
     },
     "metadata": {},
     "output_type": "display_data"
    },
    {
     "name": "stdout",
     "output_type": "stream",
     "text": [
      "Options  1 :  The farm is organic.  ||| Value:  0.4430710924894925\n",
      "Options  2 :  The farm is conventional.  ||| Value:  0.538643994965655\n",
      "Options  3 :  The farm is urban.  ||| Value:  0.4710390855031186\n",
      "                      \n",
      "**********************\n",
      "                      \n",
      "Question 16 :  A person eats kale, drinks green tea, wears Patagonia, rides bike, and shops at a local food coop.\n"
     ]
    },
    {
     "data": {
      "image/png": "[encoded data removed]",
      "text/plain": [
       "<matplotlib.figure.Figure at 0x7f9d3b175be0>"
      ]
     },
     "metadata": {},
     "output_type": "display_data"
    },
    {
     "name": "stdout",
     "output_type": "stream",
     "text": [
      "Options  1 :  The person is an environmentalist.  ||| Value:  0.4104311965601358\n",
      "Options  2 :  The person is an environmentalist and values convenience.  ||| Value:  0.4827936324252561\n",
      "Options  3 :  The person values convenience.  ||| Value:  0.45684871684763767\n",
      "                      \n",
      "**********************\n",
      "                      \n",
      "Question 17 :  A person eats beef, drinks soda, wears Levis, drives a truck, and shops at a grocery store.\n"
     ]
    },
    {
     "data": {
      "image/png": "[encoded data removed]",
      "text/plain": [
       "<matplotlib.figure.Figure at 0x7f9d3b09f198>"
      ]
     },
     "metadata": {},
     "output_type": "display_data"
    },
    {
     "name": "stdout",
     "output_type": "stream",
     "text": [
      "Options  1 :  The person is an environmentalist.  ||| Value:  0.3232970224215372\n",
      "Options  2 :  The person is an environmentalist and values convenience.  ||| Value:  0.46253626213709764\n",
      "Options  3 :  The person values convenience.  ||| Value:  0.5111435774398017\n",
      "                      \n",
      "**********************\n",
      "                      \n",
      "Question 18 :  A person enjoys hunting and fishing, drives a truck, and eats kale.\n"
     ]
    },
    {
     "data": {
      "image/png": "[encoded data removed]",
      "text/plain": [
       "<matplotlib.figure.Figure at 0x7f9d3b16e048>"
      ]
     },
     "metadata": {},
     "output_type": "display_data"
    },
    {
     "name": "stdout",
     "output_type": "stream",
     "text": [
      "Options  1 :  The person is an environmentalist.  ||| Value:  0.4263973958468841\n",
      "Options  2 :  The person is an environmentalist and values convenience.  ||| Value:  0.4566117861704459\n",
      "Options  3 :  The person values convenience.  ||| Value:  0.4386425677219451\n",
      "                      \n",
      "**********************\n",
      "                      \n"
     ]
    }
   ],
   "source": [
    "results = []\n",
    "for i in range(0, len(prompts)):\n",
    "    agent.perceive(prompt=prompts.iloc[i][2:6].values[0], options=prompts.iloc[i][2:6].values[1:])\n",
    "    perceptions = agent.evaluate_perceptions()\n",
    "    \n",
    "    for j in range(0, len(perceptions)):\n",
    "        if perceptions[j] == max(perceptions):\n",
    "            choice = j+1\n",
    "    prompts.iloc[i,-1]=''.join('option' + str(choice))\n",
    "    \n",
    "    print(\"Question\", i+1, \": \", prompts.iloc[i][2:6].values[0])\n",
    "    \n",
    "    \n",
    "    plot = plt.bar([\"Option 1\",\"Option 2\",\"Option 3\"], perceptions)\n",
    "    plot[choice-1].set_color('r')\n",
    "    plt.savefig('image'+str(i+1)+'.jpg')\n",
    "    plt.show()\n",
    "\n",
    "    for j in range(1,4):\n",
    "        print(\"Options \", str(j), \": \", prompts.iloc[i][2:6].values[j], \" ||| Value: \", perceptions[j-1])\n",
    "\n",
    "    print('                      ')\n",
    "    print('**********************')\n",
    "    print('                      ')\n"
   ]
  },
  {
   "cell_type": "code",
   "execution_count": 414,
   "metadata": {},
   "outputs": [
    {
     "data": {
      "text/html": [
       "<div>\n",
       "<style scoped>\n",
       "    .dataframe tbody tr th:only-of-type {\n",
       "        vertical-align: middle;\n",
       "    }\n",
       "\n",
       "    .dataframe tbody tr th {\n",
       "        vertical-align: top;\n",
       "    }\n",
       "\n",
       "    .dataframe thead th {\n",
       "        text-align: right;\n",
       "    }\n",
       "</style>\n",
       "<table border=\"1\" class=\"dataframe\">\n",
       "  <thead>\n",
       "    <tr style=\"text-align: right;\">\n",
       "      <th></th>\n",
       "      <th>number</th>\n",
       "      <th>Relevance to Studying Human-Environment Interactions</th>\n",
       "      <th>prompt</th>\n",
       "      <th>option1</th>\n",
       "      <th>option2</th>\n",
       "      <th>option3</th>\n",
       "      <th>agent_evaluations</th>\n",
       "    </tr>\n",
       "  </thead>\n",
       "  <tbody>\n",
       "    <tr>\n",
       "      <th>0</th>\n",
       "      <td>1</td>\n",
       "      <td>Results replication</td>\n",
       "      <td>Linda is 31 years old, single, outspoken and v...</td>\n",
       "      <td>Linda is a bank teller.</td>\n",
       "      <td>Linda is a bank teller and active in the femin...</td>\n",
       "      <td>Linda is a feminist.</td>\n",
       "      <td>option2</td>\n",
       "    </tr>\n",
       "    <tr>\n",
       "      <th>1</th>\n",
       "      <td>2</td>\n",
       "      <td>Results replication</td>\n",
       "      <td>Bill is 34 years old. He is intelligent, but u...</td>\n",
       "      <td>Bill plays jazz for a hobby</td>\n",
       "      <td>Bill is an accountant who plays jazz for a hobby</td>\n",
       "      <td>Bill plays jazz for a hobby.</td>\n",
       "      <td>option2</td>\n",
       "    </tr>\n",
       "    <tr>\n",
       "      <th>2</th>\n",
       "      <td>3</td>\n",
       "      <td>Risk perception</td>\n",
       "      <td>An agricultural crop has been planted in a fie...</td>\n",
       "      <td>The chemical will get into the water</td>\n",
       "      <td>The chemical will kill the weeds and get into ...</td>\n",
       "      <td>The chemical will kill the weeds</td>\n",
       "      <td>option2</td>\n",
       "    </tr>\n",
       "    <tr>\n",
       "      <th>3</th>\n",
       "      <td>4</td>\n",
       "      <td>Risk perception</td>\n",
       "      <td>An agricultural crop has been planted in a fie...</td>\n",
       "      <td>The fertilizer will get into the water.</td>\n",
       "      <td>The fertilizer will increase crop yields and g...</td>\n",
       "      <td>The fertilizer will increase crop yields.</td>\n",
       "      <td>option2</td>\n",
       "    </tr>\n",
       "    <tr>\n",
       "      <th>4</th>\n",
       "      <td>5</td>\n",
       "      <td>Risk perception</td>\n",
       "      <td>You are considering planting a cover crop afte...</td>\n",
       "      <td>The cover crop will improve soil health.</td>\n",
       "      <td>The cover crop will reduce corn yield and impr...</td>\n",
       "      <td>The cover crop will reduce corn yield.</td>\n",
       "      <td>option2</td>\n",
       "    </tr>\n",
       "    <tr>\n",
       "      <th>5</th>\n",
       "      <td>6</td>\n",
       "      <td>Risk perception</td>\n",
       "      <td>You are considering applying manure to alfalfa.</td>\n",
       "      <td>The manure will improve crop yields.</td>\n",
       "      <td>The manure will improve soil fertility and cro...</td>\n",
       "      <td>The manure will improve soil fertility.</td>\n",
       "      <td>option1</td>\n",
       "    </tr>\n",
       "    <tr>\n",
       "      <th>6</th>\n",
       "      <td>7</td>\n",
       "      <td>Risk perception</td>\n",
       "      <td>You are considering applying manure to a corn ...</td>\n",
       "      <td>The manure will improve crop yields.</td>\n",
       "      <td>The manure will pollute the ground water and i...</td>\n",
       "      <td>The manure will pollute the ground water.</td>\n",
       "      <td>option1</td>\n",
       "    </tr>\n",
       "    <tr>\n",
       "      <th>7</th>\n",
       "      <td>8</td>\n",
       "      <td>Risk perception</td>\n",
       "      <td>You are considering applying an insecticide to...</td>\n",
       "      <td>It will kill the pests.</td>\n",
       "      <td>It will kill the pests and make people sick.</td>\n",
       "      <td>It will make people sick.</td>\n",
       "      <td>option3</td>\n",
       "    </tr>\n",
       "    <tr>\n",
       "      <th>8</th>\n",
       "      <td>9</td>\n",
       "      <td>Risk perception</td>\n",
       "      <td>You are considering applying an insecticide to...</td>\n",
       "      <td>It will kill the pests.</td>\n",
       "      <td>It will kill the pests and make people sick.</td>\n",
       "      <td>It will make people sick.</td>\n",
       "      <td>option2</td>\n",
       "    </tr>\n",
       "    <tr>\n",
       "      <th>9</th>\n",
       "      <td>10</td>\n",
       "      <td>Social perception</td>\n",
       "      <td>Farm</td>\n",
       "      <td>The farmer values environmental sustainability.</td>\n",
       "      <td>The farmer values environmental sustainability...</td>\n",
       "      <td>The farmer values money.</td>\n",
       "      <td>option3</td>\n",
       "    </tr>\n",
       "    <tr>\n",
       "      <th>10</th>\n",
       "      <td>11</td>\n",
       "      <td>Social perception</td>\n",
       "      <td>Urban farm</td>\n",
       "      <td>The farmer values environmental sustainability.</td>\n",
       "      <td>The farmer values environmental sustainability...</td>\n",
       "      <td>The farmer values money.</td>\n",
       "      <td>option1</td>\n",
       "    </tr>\n",
       "    <tr>\n",
       "      <th>11</th>\n",
       "      <td>12</td>\n",
       "      <td>Social perception</td>\n",
       "      <td>Conventional farm</td>\n",
       "      <td>The farmer values environmental sustainability.</td>\n",
       "      <td>The farmer values environmental sustainability...</td>\n",
       "      <td>The farmer values money.</td>\n",
       "      <td>option3</td>\n",
       "    </tr>\n",
       "    <tr>\n",
       "      <th>12</th>\n",
       "      <td>13</td>\n",
       "      <td>Social perception</td>\n",
       "      <td>Organic farm</td>\n",
       "      <td>The farmer values environmental sustainability.</td>\n",
       "      <td>The farmer values environmental sustainability...</td>\n",
       "      <td>The farmer values money.</td>\n",
       "      <td>option1</td>\n",
       "    </tr>\n",
       "    <tr>\n",
       "      <th>13</th>\n",
       "      <td>14</td>\n",
       "      <td>Social perception</td>\n",
       "      <td>A farmer cares about soil health, water qualit...</td>\n",
       "      <td>The farm is organic.</td>\n",
       "      <td>The farm is conventional.</td>\n",
       "      <td>The farm is urban.</td>\n",
       "      <td>option3</td>\n",
       "    </tr>\n",
       "    <tr>\n",
       "      <th>14</th>\n",
       "      <td>15</td>\n",
       "      <td>Social perception</td>\n",
       "      <td>A farmer cares about maximizing yield, adoptin...</td>\n",
       "      <td>The farm is organic.</td>\n",
       "      <td>The farm is conventional.</td>\n",
       "      <td>The farm is urban.</td>\n",
       "      <td>option2</td>\n",
       "    </tr>\n",
       "    <tr>\n",
       "      <th>15</th>\n",
       "      <td>16</td>\n",
       "      <td>Social perception</td>\n",
       "      <td>A person eats kale, gardens, rides bike, wears...</td>\n",
       "      <td>The person is an environmentalist.</td>\n",
       "      <td>The person is an environmentalist and values c...</td>\n",
       "      <td>The person values convenience.</td>\n",
       "      <td>option2</td>\n",
       "    </tr>\n",
       "    <tr>\n",
       "      <th>16</th>\n",
       "      <td>17</td>\n",
       "      <td>Social perception</td>\n",
       "      <td>A person beef, drinks soda, drives a truck, an...</td>\n",
       "      <td>The person is an environmentalist.</td>\n",
       "      <td>The person is an environmentalist and values c...</td>\n",
       "      <td>The person values convenience.</td>\n",
       "      <td>option3</td>\n",
       "    </tr>\n",
       "    <tr>\n",
       "      <th>17</th>\n",
       "      <td>18</td>\n",
       "      <td>Social perception</td>\n",
       "      <td>A person enjoys hunting and fishing, drives a ...</td>\n",
       "      <td>The person is an environmentalist.</td>\n",
       "      <td>The person is an environmentalist and values c...</td>\n",
       "      <td>The person values convenience.</td>\n",
       "      <td>option2</td>\n",
       "    </tr>\n",
       "  </tbody>\n",
       "</table>\n",
       "</div>"
      ],
      "text/plain": [
       "    number Relevance to Studying Human-Environment Interactions  \\\n",
       "0        1                                Results replication     \n",
       "1        2                                Results replication     \n",
       "2        3                                    Risk perception     \n",
       "3        4                                    Risk perception     \n",
       "4        5                                    Risk perception     \n",
       "5        6                                    Risk perception     \n",
       "6        7                                    Risk perception     \n",
       "7        8                                    Risk perception     \n",
       "8        9                                    Risk perception     \n",
       "9       10                                  Social perception     \n",
       "10      11                                  Social perception     \n",
       "11      12                                  Social perception     \n",
       "12      13                                  Social perception     \n",
       "13      14                                  Social perception     \n",
       "14      15                                  Social perception     \n",
       "15      16                                  Social perception     \n",
       "16      17                                  Social perception     \n",
       "17      18                                  Social perception     \n",
       "\n",
       "                                               prompt  \\\n",
       "0   Linda is 31 years old, single, outspoken and v...   \n",
       "1   Bill is 34 years old. He is intelligent, but u...   \n",
       "2   An agricultural crop has been planted in a fie...   \n",
       "3   An agricultural crop has been planted in a fie...   \n",
       "4   You are considering planting a cover crop afte...   \n",
       "5     You are considering applying manure to alfalfa.   \n",
       "6   You are considering applying manure to a corn ...   \n",
       "7   You are considering applying an insecticide to...   \n",
       "8   You are considering applying an insecticide to...   \n",
       "9                                                Farm   \n",
       "10                                         Urban farm   \n",
       "11                                  Conventional farm   \n",
       "12                                       Organic farm   \n",
       "13  A farmer cares about soil health, water qualit...   \n",
       "14  A farmer cares about maximizing yield, adoptin...   \n",
       "15  A person eats kale, gardens, rides bike, wears...   \n",
       "16  A person beef, drinks soda, drives a truck, an...   \n",
       "17  A person enjoys hunting and fishing, drives a ...   \n",
       "\n",
       "                                            option1  \\\n",
       "0                           Linda is a bank teller.   \n",
       "1                      Bill plays jazz for a hobby    \n",
       "2              The chemical will get into the water   \n",
       "3           The fertilizer will get into the water.   \n",
       "4          The cover crop will improve soil health.   \n",
       "5              The manure will improve crop yields.   \n",
       "6              The manure will improve crop yields.   \n",
       "7                           It will kill the pests.   \n",
       "8                           It will kill the pests.   \n",
       "9   The farmer values environmental sustainability.   \n",
       "10  The farmer values environmental sustainability.   \n",
       "11  The farmer values environmental sustainability.   \n",
       "12  The farmer values environmental sustainability.   \n",
       "13                             The farm is organic.   \n",
       "14                             The farm is organic.   \n",
       "15               The person is an environmentalist.   \n",
       "16               The person is an environmentalist.   \n",
       "17               The person is an environmentalist.   \n",
       "\n",
       "                                              option2  \\\n",
       "0   Linda is a bank teller and active in the femin...   \n",
       "1   Bill is an accountant who plays jazz for a hobby    \n",
       "2   The chemical will kill the weeds and get into ...   \n",
       "3   The fertilizer will increase crop yields and g...   \n",
       "4   The cover crop will reduce corn yield and impr...   \n",
       "5   The manure will improve soil fertility and cro...   \n",
       "6   The manure will pollute the ground water and i...   \n",
       "7        It will kill the pests and make people sick.   \n",
       "8        It will kill the pests and make people sick.   \n",
       "9   The farmer values environmental sustainability...   \n",
       "10  The farmer values environmental sustainability...   \n",
       "11  The farmer values environmental sustainability...   \n",
       "12  The farmer values environmental sustainability...   \n",
       "13                          The farm is conventional.   \n",
       "14                          The farm is conventional.   \n",
       "15  The person is an environmentalist and values c...   \n",
       "16  The person is an environmentalist and values c...   \n",
       "17  The person is an environmentalist and values c...   \n",
       "\n",
       "                                      option3 agent_evaluations  \n",
       "0                        Linda is a feminist.           option2  \n",
       "1                Bill plays jazz for a hobby.           option2  \n",
       "2            The chemical will kill the weeds           option2  \n",
       "3   The fertilizer will increase crop yields.           option2  \n",
       "4      The cover crop will reduce corn yield.           option2  \n",
       "5     The manure will improve soil fertility.           option1  \n",
       "6   The manure will pollute the ground water.           option1  \n",
       "7                   It will make people sick.           option3  \n",
       "8                   It will make people sick.           option2  \n",
       "9                    The farmer values money.           option3  \n",
       "10                   The farmer values money.           option1  \n",
       "11                   The farmer values money.           option3  \n",
       "12                   The farmer values money.           option1  \n",
       "13                         The farm is urban.           option3  \n",
       "14                         The farm is urban.           option2  \n",
       "15             The person values convenience.           option2  \n",
       "16             The person values convenience.           option3  \n",
       "17             The person values convenience.           option2  "
      ]
     },
     "execution_count": 414,
     "metadata": {},
     "output_type": "execute_result"
    }
   ],
   "source": [
    "prompts"
   ]
  },
  {
   "cell_type": "code",
   "execution_count": null,
   "metadata": {},
   "outputs": [],
   "source": []
  }
 ],
 "metadata": {
  "kernelspec": {
   "display_name": "Python 3",
   "language": "python",
   "name": "python3"
  },
  "language_info": {
   "codemirror_mode": {
    "name": "ipython",
    "version": 3
   },
   "file_extension": ".py",
   "mimetype": "text/x-python",
   "name": "python",
   "nbconvert_exporter": "python",
   "pygments_lexer": "ipython3",
   "version": "3.5.2"
  }
 },
 "nbformat": 4,
 "nbformat_minor": 2
}
